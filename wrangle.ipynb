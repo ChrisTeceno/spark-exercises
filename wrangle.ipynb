{
 "cells": [
  {
   "cell_type": "code",
   "execution_count": 1,
   "metadata": {},
   "outputs": [
    {
     "name": "stderr",
     "output_type": "stream",
     "text": [
      "22/05/23 11:21:41 WARN Utils: Your hostname, CHRISs-MacBook-Pro.local resolves to a loopback address: 127.0.0.1; using 192.168.100.8 instead (on interface en0)\n",
      "22/05/23 11:21:41 WARN Utils: Set SPARK_LOCAL_IP if you need to bind to another address\n",
      "WARNING: An illegal reflective access operation has occurred\n",
      "WARNING: Illegal reflective access by org.apache.spark.unsafe.Platform (file:/usr/local/anaconda3/lib/python3.9/site-packages/pyspark/jars/spark-unsafe_2.12-3.2.1.jar) to constructor java.nio.DirectByteBuffer(long,int)\n",
      "WARNING: Please consider reporting this to the maintainers of org.apache.spark.unsafe.Platform\n",
      "WARNING: Use --illegal-access=warn to enable warnings of further illegal reflective access operations\n",
      "WARNING: All illegal access operations will be denied in a future release\n",
      "Using Spark's default log4j profile: org/apache/spark/log4j-defaults.properties\n",
      "Setting default log level to \"WARN\".\n",
      "To adjust logging level use sc.setLogLevel(newLevel). For SparkR, use setLogLevel(newLevel).\n",
      "22/05/23 11:21:41 WARN NativeCodeLoader: Unable to load native-hadoop library for your platform... using builtin-java classes where applicable\n",
      "22/05/23 11:21:43 WARN Utils: Service 'SparkUI' could not bind on port 4040. Attempting port 4041.\n"
     ]
    }
   ],
   "source": [
    "import pyspark\n",
    "from pyspark.sql.functions import *\n",
    "\n",
    "spark = pyspark.sql.SparkSession.builder.getOrCreate()"
   ]
  },
  {
   "cell_type": "markdown",
   "metadata": {},
   "source": [
    "1. Read the case, department, and source data into their own spark dataframes.\n",
    "\n"
   ]
  },
  {
   "cell_type": "code",
   "execution_count": 6,
   "metadata": {},
   "outputs": [],
   "source": [
    "case_df = spark.read.csv('case.csv', header=True, inferSchema=True)\n",
    "department_df = spark.read.csv('dept.csv', header=True, inferSchema=True)\n",
    "source_df = spark.read.csv('source.csv', header=True, inferSchema=True)"
   ]
  },
  {
   "cell_type": "markdown",
   "metadata": {},
   "source": [
    "2. Let's see how writing to the local disk works in spark:\n",
    "\n"
   ]
  },
  {
   "cell_type": "markdown",
   "metadata": {},
   "source": [
    "    a. Write the code necessary to store the source data in both csv and json format, store these as sources_csv and sources_json\n"
   ]
  },
  {
   "cell_type": "code",
   "execution_count": 7,
   "metadata": {},
   "outputs": [],
   "source": [
    "# store source_df as csv and json\n",
    "source_df.write.csv('sources_csv.csv')\n",
    "source_df.write.json('source_json.json')"
   ]
  },
  {
   "cell_type": "markdown",
   "metadata": {},
   "source": [
    "    b. Inspect your folder structure. What do you notice?\n"
   ]
  },
  {
   "cell_type": "markdown",
   "metadata": {},
   "source": [
    "new folders are created with the json and csv files contained within them.\n"
   ]
  },
  {
   "cell_type": "markdown",
   "metadata": {},
   "source": [
    "3. Inspect the data in your dataframes. Are the data types appropriate? Write the code necessary to cast the values to the appropriate types.\n"
   ]
  },
  {
   "cell_type": "code",
   "execution_count": 12,
   "metadata": {},
   "outputs": [
    {
     "name": "stdout",
     "output_type": "stream",
     "text": [
      "-RECORD 0------------------------------------\n",
      " case_id              | 1014127332           \n",
      " case_opened_date     | 1/1/18 0:42          \n",
      " case_closed_date     | 1/1/18 12:29         \n",
      " SLA_due_date         | 9/26/20 0:42         \n",
      " case_late            | NO                   \n",
      " num_days_late        | -998.5087616000001   \n",
      " case_closed          | YES                  \n",
      " dept_division        | Field Operations     \n",
      " service_request_type | Stray Animal         \n",
      " SLA_days             | 999.0                \n",
      " case_status          | Closed               \n",
      " source_id            | svcCRMLS             \n",
      " request_address      | 2315  EL PASO ST,... \n",
      " council_district     | 5                    \n",
      "-RECORD 1------------------------------------\n",
      " case_id              | 1014127333           \n",
      " case_opened_date     | 1/1/18 0:46          \n",
      " case_closed_date     | 1/3/18 8:11          \n",
      " SLA_due_date         | 1/5/18 8:30          \n",
      " case_late            | NO                   \n",
      " num_days_late        | -2.0126041669999997  \n",
      " case_closed          | YES                  \n",
      " dept_division        | Storm Water          \n",
      " service_request_type | Removal Of Obstru... \n",
      " SLA_days             | 4.322222222          \n",
      " case_status          | Closed               \n",
      " source_id            | svcCRMSS             \n",
      " request_address      | 2215  GOLIAD RD, ... \n",
      " council_district     | 3                    \n",
      "only showing top 2 rows\n",
      "\n"
     ]
    }
   ],
   "source": [
    "case_df.show(2, vertical=True)"
   ]
  },
  {
   "cell_type": "code",
   "execution_count": 23,
   "metadata": {},
   "outputs": [],
   "source": [
    "# convert column name\n",
    "case_df = case_df.withColumnRenamed(\"SLA_due_date\", \"case_due_date\")\n",
    "#convert to boolean\n",
    "case_df = case_df.withColumn(\"case_closed\", expr('case_closed == \"YES\"')).withColumn(\n",
    "    \"case_late\", expr('case_late == \"YES\"')\n",
    ")\n",
    "#convert to string\n",
    "case_df = case_df.withColumn('council_district', format_string('%04d', col('council_district')))\n",
    "\n",
    "#convert to date timestamp\n",
    "case_df = (\n",
    "    case_df.withColumn('case_opened_date', to_timestamp(col('case_opened_date'), 'M/d/yy H:mm'))\n",
    "    .withColumn('case_closed_date', to_timestamp(col('case_closed_date'), 'M/d/yy H:mm'))\n",
    "    .withColumn('case_due_date', to_timestamp(col('case_due_date'), 'M/d/yy H:mm'))\n",
    ")\n",
    "# Create a `case_lifetime` feature\n",
    "case_df = (\n",
    "    case_df.withColumn('case_age', datediff(current_timestamp(), 'case_opened_date'))\n",
    "    .withColumn('days_to_closed', datediff('case_closed_date', 'case_opened_date'))\n",
    "    .withColumn('case_lifetime', when(col('case_closed'), col('days_to_closed')).otherwise(col('case_age')))\n",
    "    .drop('case_age', 'days_to_closed')\n",
    ")\n",
    "\n"
   ]
  },
  {
   "cell_type": "markdown",
   "metadata": {},
   "source": [
    "***\n",
    "\n"
   ]
  },
  {
   "cell_type": "markdown",
   "metadata": {},
   "source": [
    "1. How old is the latest (in terms of days past SLA) currently open issue? How long has the oldest (in terms of days since opened) currently opened issue been open?\n"
   ]
  },
  {
   "cell_type": "code",
   "execution_count": 26,
   "metadata": {},
   "outputs": [
    {
     "name": "stdout",
     "output_type": "stream",
     "text": [
      "+-------------+\n",
      "|days_past_due|\n",
      "+-------------+\n",
      "|         1952|\n",
      "+-------------+\n",
      "\n"
     ]
    }
   ],
   "source": [
    "case_df.createOrReplaceTempView('df')\n",
    "\n",
    "spark.sql('''\n",
    "SELECT DATEDIFF(current_timestamp, case_due_date) AS days_past_due\n",
    "FROM df\n",
    "WHERE NOT case_closed\n",
    "ORDER BY days_past_due DESC\n",
    "LIMIT 1\n",
    "''').show()"
   ]
  },
  {
   "cell_type": "markdown",
   "metadata": {},
   "source": [
    "2. How many Stray Animal cases are there?\n"
   ]
  },
  {
   "cell_type": "code",
   "execution_count": 28,
   "metadata": {},
   "outputs": [
    {
     "data": {
      "text/plain": [
       "26760"
      ]
     },
     "execution_count": 28,
     "metadata": {},
     "output_type": "execute_result"
    }
   ],
   "source": [
    "case_df.filter(case_df.service_request_type == 'Stray Animal').count()"
   ]
  },
  {
   "cell_type": "markdown",
   "metadata": {},
   "source": [
    "3. How many service requests that are assigned to the Field Operations department (dept_division) are not classified as \"Officer Standby\" request type (service_request_type)?\n",
    "\n"
   ]
  },
  {
   "cell_type": "code",
   "execution_count": 30,
   "metadata": {},
   "outputs": [
    {
     "data": {
      "text/plain": [
       "113902"
      ]
     },
     "execution_count": 30,
     "metadata": {},
     "output_type": "execute_result"
    }
   ],
   "source": [
    "(\n",
    "    case_df.filter(case_df.dept_division == 'Field Operations')\n",
    "    .filter(case_df.service_request_type != 'Officer Standby')\n",
    "    .count()\n",
    ")"
   ]
  },
  {
   "cell_type": "markdown",
   "metadata": {},
   "source": [
    "4. Convert the council_district column to a string column.\n",
    "\n"
   ]
  },
  {
   "cell_type": "code",
   "execution_count": 31,
   "metadata": {},
   "outputs": [],
   "source": [
    "# done above"
   ]
  },
  {
   "cell_type": "markdown",
   "metadata": {},
   "source": [
    "5. Extract the year from the case_closed_date column.\n"
   ]
  },
  {
   "cell_type": "code",
   "execution_count": 32,
   "metadata": {},
   "outputs": [
    {
     "name": "stdout",
     "output_type": "stream",
     "text": [
      "+-------------------+----------------------+\n",
      "|   case_closed_date|year(case_closed_date)|\n",
      "+-------------------+----------------------+\n",
      "|2018-01-01 12:29:00|                  2018|\n",
      "|2018-01-03 08:11:00|                  2018|\n",
      "|2018-01-02 07:57:00|                  2018|\n",
      "|2018-01-02 08:13:00|                  2018|\n",
      "|2018-01-01 13:29:00|                  2018|\n",
      "+-------------------+----------------------+\n",
      "only showing top 5 rows\n",
      "\n"
     ]
    }
   ],
   "source": [
    "case_df.select('case_closed_date', year('case_closed_date')).show(5)\n"
   ]
  },
  {
   "cell_type": "markdown",
   "metadata": {},
   "source": [
    "6. Convert num_days_late from days to hours in new columns num_hours_late.\n",
    "\n"
   ]
  },
  {
   "cell_type": "code",
   "execution_count": 33,
   "metadata": {},
   "outputs": [
    {
     "name": "stdout",
     "output_type": "stream",
     "text": [
      "+-------------------+-------------------+\n",
      "|      num_days_late|     num_hours_late|\n",
      "+-------------------+-------------------+\n",
      "| -998.5087616000001|     -23964.2102784|\n",
      "|-2.0126041669999997|-48.302500007999996|\n",
      "|       -3.022337963|      -72.536111112|\n",
      "|       -15.01148148|      -360.27555552|\n",
      "|0.37216435200000003|  8.931944448000001|\n",
      "+-------------------+-------------------+\n",
      "only showing top 5 rows\n",
      "\n"
     ]
    }
   ],
   "source": [
    "(\n",
    "    case_df.withColumn('num_hours_late', case_df.num_days_late * 24)\n",
    "    .select('num_days_late', 'num_hours_late')\n",
    "    .show(5)\n",
    ")"
   ]
  },
  {
   "cell_type": "markdown",
   "metadata": {},
   "source": [
    "7. Join the case data with the source and department data.\n",
    "\n"
   ]
  },
  {
   "cell_type": "code",
   "execution_count": 35,
   "metadata": {},
   "outputs": [
    {
     "name": "stdout",
     "output_type": "stream",
     "text": [
      "-RECORD 0--------------------------------------\n",
      " source_id              | svcCRMLS             \n",
      " dept_division          | Field Operations     \n",
      " case_id                | 1014127332           \n",
      " case_opened_date       | 2018-01-01 00:42:00  \n",
      " case_closed_date       | 2018-01-01 12:29:00  \n",
      " case_due_date          | 2020-09-26 00:42:00  \n",
      " case_late              | false                \n",
      " num_days_late          | -998.5087616000001   \n",
      " case_closed            | true                 \n",
      " service_request_type   | Stray Animal         \n",
      " SLA_days               | 999.0                \n",
      " case_status            | Closed               \n",
      " request_address        | 2315  EL PASO ST,... \n",
      " council_district       | 0005                 \n",
      " case_lifetime          | 0                    \n",
      " dept_name              | Animal Care Services \n",
      " standardized_dept_name | Animal Care Services \n",
      " dept_subject_to_SLA    | YES                  \n",
      " source_username        | svcCRMLS             \n",
      "only showing top 1 row\n",
      "\n"
     ]
    }
   ],
   "source": [
    "df = case_df.join(department_df, 'dept_division', 'left').join(source_df, 'source_id', 'left')\n",
    "df.show(1, vertical=True)\n"
   ]
  },
  {
   "cell_type": "markdown",
   "metadata": {},
   "source": [
    "8. Are there any cases that do not have a request source?\n",
    "\n"
   ]
  },
  {
   "cell_type": "code",
   "execution_count": 36,
   "metadata": {},
   "outputs": [
    {
     "name": "stdout",
     "output_type": "stream",
     "text": [
      "+------------+\n",
      "|sum(is_null)|\n",
      "+------------+\n",
      "|           0|\n",
      "+------------+\n",
      "\n"
     ]
    },
    {
     "name": "stderr",
     "output_type": "stream",
     "text": [
      "                                                                                \r"
     ]
    }
   ],
   "source": [
    "(\n",
    "    df.select(df.source_id.isNull().cast('int').alias('is_null'))\n",
    "    .agg(sum('is_null'))\n",
    "    .show()\n",
    ")"
   ]
  },
  {
   "cell_type": "markdown",
   "metadata": {},
   "source": [
    "9. What are the top 10 service request types in terms of number of requests?\n",
    "\n"
   ]
  },
  {
   "cell_type": "code",
   "execution_count": 37,
   "metadata": {},
   "outputs": [
    {
     "name": "stderr",
     "output_type": "stream",
     "text": [
      "[Stage 85:=======>                                                  (1 + 7) / 8]\r"
     ]
    },
    {
     "name": "stdout",
     "output_type": "stream",
     "text": [
      "+--------------------------------+-----+\n",
      "|service_request_type            |count|\n",
      "+--------------------------------+-----+\n",
      "|No Pickup                       |89210|\n",
      "|Overgrown Yard/Trash            |66403|\n",
      "|Bandit Signs                    |32968|\n",
      "|Damaged Cart                    |31163|\n",
      "|Front Or Side Yard Parking      |28920|\n",
      "|Stray Animal                    |27361|\n",
      "|Aggressive Animal(Non-Critical) |25492|\n",
      "|Cart Exchange Request           |22608|\n",
      "|Junk Vehicle On Private Property|21649|\n",
      "|Pot Hole Repair                 |20827|\n",
      "+--------------------------------+-----+\n",
      "only showing top 10 rows\n",
      "\n"
     ]
    },
    {
     "name": "stderr",
     "output_type": "stream",
     "text": [
      "                                                                                \r"
     ]
    }
   ],
   "source": [
    "(\n",
    "    df.groupby('service_request_type')\n",
    "    .count()\n",
    "    .sort(col('count').desc())\n",
    "    .show(10, truncate=False)\n",
    ")"
   ]
  },
  {
   "cell_type": "markdown",
   "metadata": {},
   "source": [
    "10. What are the top 10 service request types in terms of average days late?\n"
   ]
  },
  {
   "cell_type": "code",
   "execution_count": 40,
   "metadata": {},
   "outputs": [
    {
     "name": "stderr",
     "output_type": "stream",
     "text": [
      "[Stage 100:>                                                        (0 + 8) / 8]\r"
     ]
    },
    {
     "name": "stdout",
     "output_type": "stream",
     "text": [
      "+--------------------------------------+-----------+\n",
      "|service_request_type                  |n_days_late|\n",
      "+--------------------------------------+-----------+\n",
      "|Zoning: Recycle Yard                  |210.9      |\n",
      "|Zoning: Junk Yards                    |200.2      |\n",
      "|Structure/Housing Maintenance         |190.2      |\n",
      "|Donation Container Enforcement        |171.1      |\n",
      "|Storage of Used Mattress              |164.0      |\n",
      "|Labeling for Used Mattress            |162.4      |\n",
      "|Record Keeping of Used Mattresses     |154.0      |\n",
      "|Signage Requied for Sale of Used Mattr|151.6      |\n",
      "|Traffic Signal Graffiti               |137.6      |\n",
      "|License Requied Used Mattress Sales   |128.8      |\n",
      "+--------------------------------------+-----------+\n",
      "only showing top 10 rows\n",
      "\n"
     ]
    },
    {
     "name": "stderr",
     "output_type": "stream",
     "text": [
      "                                                                                \r"
     ]
    }
   ],
   "source": [
    "(\n",
    "    df.where('case_late') # just the rows where case_late == true\n",
    "    .groupBy('service_request_type')\n",
    "    .agg(round(mean('num_days_late'),1).alias('n_days_late'))\n",
    "    .sort(desc('n_days_late'))\n",
    "    .show(10, truncate=False)\n",
    ")"
   ]
  },
  {
   "cell_type": "markdown",
   "metadata": {},
   "source": [
    "11. Does number of days late depend on department?\n"
   ]
  },
  {
   "cell_type": "code",
   "execution_count": 43,
   "metadata": {},
   "outputs": [
    {
     "name": "stdout",
     "output_type": "stream",
     "text": [
      "+------------------------+---------+\n",
      "|standardized_dept_name  |days_late|\n",
      "+------------------------+---------+\n",
      "|Animal Care Services    |23.5     |\n",
      "|Customer Service        |81.4     |\n",
      "|DSD/Code Enforcement    |45.3     |\n",
      "|Metro Health            |6.6      |\n",
      "|Parks & Recreation      |20.2     |\n",
      "|Solid Waste             |6.6      |\n",
      "|Trans & Cap Improvements|7.1      |\n",
      "+------------------------+---------+\n",
      "\n"
     ]
    },
    {
     "name": "stderr",
     "output_type": "stream",
     "text": [
      "                                                                                \r"
     ]
    }
   ],
   "source": [
    "(\n",
    "    df.filter(\"case_closed\")\n",
    "    .filter(\"case_late\")\n",
    "    .groupby(\"standardized_dept_name\")\n",
    "    .agg(avg(\"num_days_late\").alias(\"days_late\"))\n",
    "    .withColumn(\"days_late\", round(col(\"days_late\"), 1))\n",
    "    .sort(col('standardized_dept_name'), col('days_late'))\n",
    "    .show(40, truncate=False)\n",
    ")"
   ]
  },
  {
   "cell_type": "markdown",
   "metadata": {},
   "source": [
    "12. How do number of days late depend on department and request type?"
   ]
  },
  {
   "cell_type": "code",
   "execution_count": 47,
   "metadata": {},
   "outputs": [
    {
     "name": "stderr",
     "output_type": "stream",
     "text": [
      "[Stage 130:>                                                        (0 + 8) / 8]\r"
     ]
    },
    {
     "name": "stdout",
     "output_type": "stream",
     "text": [
      "+----------------------+--------------------------------------------+---------+\n",
      "|standardized_dept_name|service_request_type                        |days_late|\n",
      "+----------------------+--------------------------------------------+---------+\n",
      "|DSD/Code Enforcement  |Zoning: Recycle Yard                        |273.6    |\n",
      "|DSD/Code Enforcement  |Zoning: Junk Yards                          |251.9    |\n",
      "|DSD/Code Enforcement  |Donation Container Enforcement              |201.7    |\n",
      "|DSD/Code Enforcement  |Structure/Housing Maintenance               |182.4    |\n",
      "|DSD/Code Enforcement  |Graffiti: Private Property (Corridors)      |175.1    |\n",
      "|DSD/Code Enforcement  |Storage of Used Mattress                    |164.0    |\n",
      "|DSD/Code Enforcement  |Labeling for Used Mattress                  |162.4    |\n",
      "|DSD/Code Enforcement  |Record Keeping of Used Mattresses           |154.0    |\n",
      "|DSD/Code Enforcement  |Signage Requied for Sale of Used Mattr      |151.6    |\n",
      "|DSD/Code Enforcement  |License Requied Used Mattress Sales         |128.8    |\n",
      "|DSD/Code Enforcement  |Vendors                                     |127.3    |\n",
      "|DSD/Code Enforcement  |Curbstoning                                 |121.8    |\n",
      "|DSD/Code Enforcement  |DSDB Ordered/Hold Harmless/Regular-ALL      |119.8    |\n",
      "|DSD/Code Enforcement  |CPS Energy Wood Poles                       |115.2    |\n",
      "|DSD/Code Enforcement  |Used Mattress Inspection                    |108.1    |\n",
      "|DSD/Code Enforcement  |DSDB Ordered/Hold Harmless/Regular: Main    |106.4    |\n",
      "|DSD/Code Enforcement  |DSDB Ordered/Hold Harmless/Regular: ASEC    |104.7    |\n",
      "|DSD/Code Enforcement  |Zoning: Mobile Homes                        |103.8    |\n",
      "|DSD/Code Enforcement  |Certificates of Occupancy                   |103.3    |\n",
      "|DSD/Code Enforcement  |Zoning: Setbacks                            |98.4     |\n",
      "|DSD/Code Enforcement  |Wasting Water (Leaks)                       |91.3     |\n",
      "|DSD/Code Enforcement  |Street Light New Development                |91.1     |\n",
      "|DSD/Code Enforcement  |Zoning: District Requirement                |89.3     |\n",
      "|DSD/Code Enforcement  |Permits Building                            |84.4     |\n",
      "|DSD/Code Enforcement  |Vacant Lot: Over 12\"\"                       |82.1     |\n",
      "|Customer Service      |Complaint                                   |81.5     |\n",
      "|DSD/Code Enforcement  |Low Hanging Limbs on Streets/Sidewalk       |78.6     |\n",
      "|Parks & Recreation    |Major Park Improvement Install              |75.8     |\n",
      "|DSD/Code Enforcement  |Zoning: Outside Storage                     |74.2     |\n",
      "|DSD/Code Enforcement  |Dart Preliminary Inspection                 |74.0     |\n",
      "|DSD/Code Enforcement  |Dumpsters: Maintenance/Sanitation           |73.2     |\n",
      "|DSD/Code Enforcement  |Used/Scrap Tire Facility Periodic Inspection|72.9     |\n",
      "|DSD/Code Enforcement  |\"Vacant Lot-State (12\"\")\"                   |72.1     |\n",
      "|Animal Care Services  |Animal Permits Request                      |72.0     |\n",
      "|DSD/Code Enforcement  |No Address Posted                           |72.0     |\n",
      "|Animal Care Services  |Public Nuisance(Own Animal)                 |71.2     |\n",
      "|DSD/Code Enforcement  |Zoning Business in Resident Area            |70.9     |\n",
      "|DSD/Code Enforcement  |Water No Services                           |69.5     |\n",
      "|DSD/Code Enforcement  |Discharge Into Pub. Waters/St               |69.3     |\n",
      "|DSD/Code Enforcement  |Zoning: Multi-Family In Single              |67.8     |\n",
      "+----------------------+--------------------------------------------+---------+\n",
      "only showing top 40 rows\n",
      "\n"
     ]
    },
    {
     "name": "stderr",
     "output_type": "stream",
     "text": [
      "                                                                                \r"
     ]
    }
   ],
   "source": [
    "(\n",
    "    df.filter(\"case_closed\")\n",
    "    .filter(\"case_late\")\n",
    "    .groupby(\"standardized_dept_name\", \"service_request_type\")\n",
    "    .agg(avg(\"num_days_late\").alias(\"days_late\"))\n",
    "    .withColumn(\"days_late\", round(col(\"days_late\"), 1))\n",
    "    .sort(col('days_late').desc(), col('standardized_dept_name'))``\n",
    "    .show(40, truncate=False)\n",
    ")"
   ]
  }
 ],
 "metadata": {
  "interpreter": {
   "hash": "3067ead486e059ec00ffe7555bdb889e6e264a24dc711bf108106cc7baee8d5d"
  },
  "kernelspec": {
   "display_name": "Python 3.9.7 ('base')",
   "language": "python",
   "name": "python3"
  },
  "language_info": {
   "codemirror_mode": {
    "name": "ipython",
    "version": 3
   },
   "file_extension": ".py",
   "mimetype": "text/x-python",
   "name": "python",
   "nbconvert_exporter": "python",
   "pygments_lexer": "ipython3",
   "version": "3.9.7"
  },
  "orig_nbformat": 4
 },
 "nbformat": 4,
 "nbformat_minor": 2
}
